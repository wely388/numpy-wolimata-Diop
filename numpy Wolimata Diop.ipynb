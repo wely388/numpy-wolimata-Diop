{
 "cells": [
  {
   "cell_type": "code",
   "execution_count": 11,
   "metadata": {},
   "outputs": [
    {
     "name": "stdout",
     "output_type": "stream",
     "text": [
      "Transposée de 'ones':\n",
      "[[1 1]\n",
      " [1 1]\n",
      " [1 1]\n",
      " [1 1]\n",
      " [1 1]]\n",
      "\n",
      "Transposée de 'myarray2':\n",
      "[[ 4. 24. 44.]\n",
      " [ 8. 28. 48.]\n",
      " [12. 32. 52.]\n",
      " [16. 36. 56.]\n",
      " [20. 40. 60.]]\n"
     ]
    }
   ],
   "source": [
    "\n",
    "#6\n",
    "import numpy as np\n",
    "\n",
    "#creation des tableax (assumant que vous les avez déjà créés)\n",
    "ones = np.ones((2, 5), dtype=int)\n",
    "myarray2 = np.arange(4,64,4, dtype=float).reshape(3, 5)\n",
    "\n",
    "#trouver la transposée\n",
    "ones_transposed = ones.T\n",
    "myarray2_transposed = np.transpose(myarray2)\n",
    "\n",
    "print(\"Transposée de 'ones':\")\n",
    "print(ones_transposed)\n",
    "\n",
    "print(\"\\nTransposée de 'myarray2':\")\n",
    "print(myarray2_transposed)\n"
   ]
  },
  {
   "cell_type": "code",
   "execution_count": 5,
   "metadata": {},
   "outputs": [
    {
     "name": "stdout",
     "output_type": "stream",
     "text": [
      "myarray2A:\n",
      "[1 2]\n",
      "myarray2B:\n",
      "[3 4]\n",
      "myarray2C:\n",
      "[5 6]\n",
      "myarray2D:\n",
      "[7 8]\n",
      "myarray2E:\n",
      "[ 9 10]\n"
     ]
    }
   ],
   "source": [
    "#7\n",
    "#pour diviser le tableau  \"myarray2\" en 5 tableaux, nous pouvons utiliser numpy.split():\n",
    "import numpy as np\n",
    "\n",
    "#creation du tableau(assumant que vous l'avez déjà créé)\n",
    "#myarray2 - np.array(4,24,4, dtype=float).reshape(1, 5)\n",
    "myarray2 = np.array([1,2,3,4,5,6,7,8,9,10])\n",
    "#diviser en 5 sous-tableaux\n",
    "myarray2A, myarray2B, myarray2C, myarray2D, myarray2E = np.split(myarray2, 5)\n",
    "\n",
    "print(\"myarray2A:\")\n",
    "print(myarray2A)\n",
    "print(\"myarray2B:\")\n",
    "print(myarray2B)\n",
    "print(\"myarray2C:\")\n",
    "print(myarray2C)\n",
    "print(\"myarray2D:\")\n",
    "print(myarray2D)\n",
    "print(\"myarray2E:\")\n",
    "print(myarray2E)"
   ]
  },
  {
   "cell_type": "code",
   "execution_count": 6,
   "metadata": {},
   "outputs": [
    {
     "name": "stdout",
     "output_type": "stream",
     "text": [
      "\n",
      "zerosA:\n",
      "[0. 0.]\n",
      "\n",
      "zerosB:\n",
      "[0. 0. 0.]\n",
      "\n",
      "zerosC:\n",
      "[0. 0.]\n",
      "\n",
      "zerosD:\n",
      "[0.]\n"
     ]
    }
   ],
   "source": [
    "#pour diviser le tableau \"zeros\" aux indices 2,5,7,8, nous pouvons utiliser le decoupage :\n",
    "zeros = np.zeros(10)\n",
    "\n",
    "#diviser au indices specifies \n",
    "zerosA = zeros[:2]\n",
    "zerosB = zeros[2:5]\n",
    "zerosC = zeros[5:7]\n",
    "zerosD = zeros[7:8]\n",
    "\n",
    "print(\"\\nzerosA:\")\n",
    "print(zerosA)\n",
    "print(\"\\nzerosB:\")\n",
    "print(zerosB)\n",
    "print(\"\\nzerosC:\")\n",
    "print(zerosC)\n",
    "print(\"\\nzerosD:\")\n",
    "print(zerosD)"
   ]
  },
  {
   "cell_type": "code",
   "execution_count": 7,
   "metadata": {},
   "outputs": [
    {
     "name": "stdout",
     "output_type": "stream",
     "text": [
      "\n",
      "Tableau résultant de la concatenation:\n",
      "[1 2 3 4 5 6]\n"
     ]
    }
   ],
   "source": [
    "#pour concatener les tableaux \"myarray2A\",\"myarray2B\" et \"myarray2C\" en un tableau ayant 3lignes et 3colonnes\n",
    "\n",
    "myarray2_concatenated = np.concatenate((myarray2A, myarray2B, myarray2C),axis=0)\n",
    "\n",
    "print(\"\\nTableau résultant de la concatenation:\")\n",
    "print(myarray2_concatenated)\n"
   ]
  },
  {
   "cell_type": "code",
   "execution_count": 3,
   "metadata": {},
   "outputs": [
    {
     "name": "stdout",
     "output_type": "stream",
     "text": [
      "partie 1 :\n",
      " [[-1.   -0.75 -0.5 ]\n",
      " [-0.25  0.    0.25]\n",
      " [ 0.5   0.75  1.  ]\n",
      " [ 1.25  1.5   1.75]]\n",
      "partie 2 :\n",
      " [[2.   2.25 2.5 ]\n",
      " [2.75 3.   3.25]\n",
      " [3.5  3.75 4.  ]\n",
      " [4.25 4.5  4.75]]\n",
      "partie 3 :n\n",
      " [[5.   5.25 5.5 ]\n",
      " [5.75 6.   6.25]\n",
      " [6.5  6.75 7.  ]\n",
      " [7.25 7.5  7.75]\n",
      " [8.   8.25 8.5 ]\n",
      " [8.75 9.   9.25]]\n"
     ]
    }
   ],
   "source": [
    "#8\n",
    "import numpy as np\n",
    "#creer le tableau 2D avec arange()\n",
    "myarray4 = np.arange(-1,14*3*0.25-1,0.25).reshape((14,3))\n",
    "#diviser le tableau en 3 parties égales\n",
    "part_size = myarray4.shape[0] // 3\n",
    "part1 = myarray4[:part_size]\n",
    "part2 = myarray4[part_size:2*part_size]\n",
    "part3 = myarray4[2*part_size:]\n",
    "#imprimer les resultats\n",
    "print(\"partie 1 :\\n\", part1)\n",
    "print(\"partie 2 :\\n\", part2)\n",
    "print(\"partie 3 :n\\n\",part3)"
   ]
  },
  {
   "cell_type": "code",
   "execution_count": 2,
   "metadata": {},
   "outputs": [
    {
     "name": "stdout",
     "output_type": "stream",
     "text": [
      "somme de tous les éléments de 'myarray4': 8.75\n"
     ]
    }
   ],
   "source": [
    "#9\n",
    "import numpy as np\n",
    "#creation du tableau (assumant que vous l'avez déjà crée)\n",
    "myarray4 = np.arange(-1,14*0.25-1,0.25).reshape(1, 14)\n",
    "\n",
    "#somme de tous les éléments\n",
    "total_sum = np.sum(myarray4)\n",
    "\n",
    "print(\"somme de tous les éléments de 'myarray4':\", total_sum)\n",
    "\n"
   ]
  },
  {
   "cell_type": "code",
   "execution_count": 3,
   "metadata": {},
   "outputs": [
    {
     "name": "stdout",
     "output_type": "stream",
     "text": [
      "somme de tous les éléments de 'myarray4': 8.75\n"
     ]
    }
   ],
   "source": [
    "row_sum = np.sum(myarray4)\n",
    "\n",
    "print(\"somme de tous les éléments de 'myarray4':\", total_sum)"
   ]
  },
  {
   "cell_type": "code",
   "execution_count": null,
   "metadata": {},
   "outputs": [],
   "source": []
  }
 ],
 "metadata": {
  "kernelspec": {
   "display_name": "Python 3",
   "language": "python",
   "name": "python3"
  },
  "language_info": {
   "codemirror_mode": {
    "name": "ipython",
    "version": 3
   },
   "file_extension": ".py",
   "mimetype": "text/x-python",
   "name": "python",
   "nbconvert_exporter": "python",
   "pygments_lexer": "ipython3",
   "version": "3.7.4"
  }
 },
 "nbformat": 4,
 "nbformat_minor": 2
}
